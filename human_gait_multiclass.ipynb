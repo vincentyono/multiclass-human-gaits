{
  "cells": [
    {
      "cell_type": "code",
      "execution_count": 1,
      "metadata": {
        "id": "3EfRVo6xGF1Z"
      },
      "outputs": [],
      "source": [
        "import pandas as pd\n",
        "import numpy as np\n",
        "import time\n",
        "import functools"
      ]
    },
    {
      "cell_type": "code",
      "execution_count": 2,
      "metadata": {
        "id": "awbwrxw5DWGP"
      },
      "outputs": [],
      "source": [
        "df = pd.read_csv(\"dataset/walk.csv\")"
      ]
    },
    {
      "cell_type": "code",
      "execution_count": 3,
      "metadata": {
        "colab": {
          "base_uri": "https://localhost:8080/",
          "height": 256
        },
        "id": "Ejx3flAWDddB",
        "outputId": "bb3e3b0e-0c35-4ce7-bf93-23008e72383b"
      },
      "outputs": [
        {
          "data": {
            "text/html": [
              "<div>\n",
              "<style scoped>\n",
              "    .dataframe tbody tr th:only-of-type {\n",
              "        vertical-align: middle;\n",
              "    }\n",
              "\n",
              "    .dataframe tbody tr th {\n",
              "        vertical-align: top;\n",
              "    }\n",
              "\n",
              "    .dataframe thead th {\n",
              "        text-align: right;\n",
              "    }\n",
              "</style>\n",
              "<table border=\"1\" class=\"dataframe\">\n",
              "  <thead>\n",
              "    <tr style=\"text-align: right;\">\n",
              "      <th></th>\n",
              "      <th>id</th>\n",
              "      <th>frame</th>\n",
              "      <th>r_hip_ang</th>\n",
              "      <th>r_knee_ang</th>\n",
              "      <th>r_ankle_ang</th>\n",
              "      <th>r_elbow_ang</th>\n",
              "      <th>r_shoulder_ang</th>\n",
              "      <th>gender</th>\n",
              "      <th>age</th>\n",
              "      <th>r_hip_vel</th>\n",
              "      <th>...</th>\n",
              "      <th>r_hip_accel_2</th>\n",
              "      <th>r_knee_accel_2</th>\n",
              "      <th>r_ankle_accel_2</th>\n",
              "      <th>r_elbow_accel_2</th>\n",
              "      <th>r_shoulder_accel_2</th>\n",
              "      <th>r_hip_accel_3</th>\n",
              "      <th>r_knee_accel_3</th>\n",
              "      <th>r_ankle_accel_3</th>\n",
              "      <th>r_elbow_accel_3</th>\n",
              "      <th>r_shoulder_accel_3</th>\n",
              "    </tr>\n",
              "  </thead>\n",
              "  <tbody>\n",
              "    <tr>\n",
              "      <th>0</th>\n",
              "      <td>10</td>\n",
              "      <td>1</td>\n",
              "      <td>167.768499</td>\n",
              "      <td>178.929176</td>\n",
              "      <td>142.051424</td>\n",
              "      <td>154.127553</td>\n",
              "      <td>23.245334</td>\n",
              "      <td>male</td>\n",
              "      <td>&gt;40</td>\n",
              "      <td>0.000000</td>\n",
              "      <td>...</td>\n",
              "      <td>0.000000</td>\n",
              "      <td>0.000000</td>\n",
              "      <td>0.000000</td>\n",
              "      <td>0.000000</td>\n",
              "      <td>0.000000</td>\n",
              "      <td>0.0</td>\n",
              "      <td>0.0</td>\n",
              "      <td>0.0</td>\n",
              "      <td>0.0</td>\n",
              "      <td>0.0</td>\n",
              "    </tr>\n",
              "    <tr>\n",
              "      <th>1</th>\n",
              "      <td>10</td>\n",
              "      <td>2</td>\n",
              "      <td>165.381026</td>\n",
              "      <td>177.589431</td>\n",
              "      <td>137.767200</td>\n",
              "      <td>154.863261</td>\n",
              "      <td>23.917121</td>\n",
              "      <td>male</td>\n",
              "      <td>&gt;40</td>\n",
              "      <td>-35.812098</td>\n",
              "      <td>...</td>\n",
              "      <td>0.000000</td>\n",
              "      <td>0.000000</td>\n",
              "      <td>0.000000</td>\n",
              "      <td>0.000000</td>\n",
              "      <td>0.000000</td>\n",
              "      <td>0.0</td>\n",
              "      <td>0.0</td>\n",
              "      <td>0.0</td>\n",
              "      <td>0.0</td>\n",
              "      <td>0.0</td>\n",
              "    </tr>\n",
              "    <tr>\n",
              "      <th>2</th>\n",
              "      <td>10</td>\n",
              "      <td>3</td>\n",
              "      <td>164.644948</td>\n",
              "      <td>177.605573</td>\n",
              "      <td>133.497814</td>\n",
              "      <td>155.205706</td>\n",
              "      <td>24.322572</td>\n",
              "      <td>male</td>\n",
              "      <td>&gt;40</td>\n",
              "      <td>-7.360778</td>\n",
              "      <td>...</td>\n",
              "      <td>0.000000</td>\n",
              "      <td>0.000000</td>\n",
              "      <td>0.000000</td>\n",
              "      <td>0.000000</td>\n",
              "      <td>0.000000</td>\n",
              "      <td>0.0</td>\n",
              "      <td>0.0</td>\n",
              "      <td>0.0</td>\n",
              "      <td>0.0</td>\n",
              "      <td>0.0</td>\n",
              "    </tr>\n",
              "    <tr>\n",
              "      <th>3</th>\n",
              "      <td>10</td>\n",
              "      <td>4</td>\n",
              "      <td>163.897835</td>\n",
              "      <td>177.605651</td>\n",
              "      <td>132.629587</td>\n",
              "      <td>155.205706</td>\n",
              "      <td>24.802195</td>\n",
              "      <td>male</td>\n",
              "      <td>&gt;40</td>\n",
              "      <td>-5.603347</td>\n",
              "      <td>...</td>\n",
              "      <td>0.000000</td>\n",
              "      <td>0.000000</td>\n",
              "      <td>0.000000</td>\n",
              "      <td>0.000000</td>\n",
              "      <td>0.000000</td>\n",
              "      <td>0.0</td>\n",
              "      <td>0.0</td>\n",
              "      <td>0.0</td>\n",
              "      <td>0.0</td>\n",
              "      <td>0.0</td>\n",
              "    </tr>\n",
              "    <tr>\n",
              "      <th>4</th>\n",
              "      <td>10</td>\n",
              "      <td>5</td>\n",
              "      <td>163.620385</td>\n",
              "      <td>177.332893</td>\n",
              "      <td>132.012633</td>\n",
              "      <td>154.929898</td>\n",
              "      <td>25.170857</td>\n",
              "      <td>male</td>\n",
              "      <td>&gt;40</td>\n",
              "      <td>-1.664701</td>\n",
              "      <td>...</td>\n",
              "      <td>-537.181477</td>\n",
              "      <td>-301.442616</td>\n",
              "      <td>-963.950478</td>\n",
              "      <td>165.534488</td>\n",
              "      <td>151.152007</td>\n",
              "      <td>0.0</td>\n",
              "      <td>0.0</td>\n",
              "      <td>0.0</td>\n",
              "      <td>0.0</td>\n",
              "      <td>0.0</td>\n",
              "    </tr>\n",
              "  </tbody>\n",
              "</table>\n",
              "<p>5 rows × 49 columns</p>\n",
              "</div>"
            ],
            "text/plain": [
              "   id  frame   r_hip_ang  r_knee_ang  r_ankle_ang  r_elbow_ang  \\\n",
              "0  10      1  167.768499  178.929176   142.051424   154.127553   \n",
              "1  10      2  165.381026  177.589431   137.767200   154.863261   \n",
              "2  10      3  164.644948  177.605573   133.497814   155.205706   \n",
              "3  10      4  163.897835  177.605651   132.629587   155.205706   \n",
              "4  10      5  163.620385  177.332893   132.012633   154.929898   \n",
              "\n",
              "   r_shoulder_ang gender  age  r_hip_vel  ...  r_hip_accel_2  r_knee_accel_2  \\\n",
              "0       23.245334   male  >40   0.000000  ...       0.000000        0.000000   \n",
              "1       23.917121   male  >40 -35.812098  ...       0.000000        0.000000   \n",
              "2       24.322572   male  >40  -7.360778  ...       0.000000        0.000000   \n",
              "3       24.802195   male  >40  -5.603347  ...       0.000000        0.000000   \n",
              "4       25.170857   male  >40  -1.664701  ...    -537.181477     -301.442616   \n",
              "\n",
              "   r_ankle_accel_2  r_elbow_accel_2  r_shoulder_accel_2  r_hip_accel_3  \\\n",
              "0         0.000000         0.000000            0.000000            0.0   \n",
              "1         0.000000         0.000000            0.000000            0.0   \n",
              "2         0.000000         0.000000            0.000000            0.0   \n",
              "3         0.000000         0.000000            0.000000            0.0   \n",
              "4      -963.950478       165.534488          151.152007            0.0   \n",
              "\n",
              "   r_knee_accel_3  r_ankle_accel_3  r_elbow_accel_3  r_shoulder_accel_3  \n",
              "0             0.0              0.0              0.0                 0.0  \n",
              "1             0.0              0.0              0.0                 0.0  \n",
              "2             0.0              0.0              0.0                 0.0  \n",
              "3             0.0              0.0              0.0                 0.0  \n",
              "4             0.0              0.0              0.0                 0.0  \n",
              "\n",
              "[5 rows x 49 columns]"
            ]
          },
          "execution_count": 3,
          "metadata": {},
          "output_type": "execute_result"
        }
      ],
      "source": [
        "df.head()"
      ]
    },
    {
      "cell_type": "code",
      "execution_count": 4,
      "metadata": {
        "id": "5xkYYwqbD5jx"
      },
      "outputs": [],
      "source": [
        "gender_age = []\n",
        "for i in range(len(df)):\n",
        "    if df.iloc[i, 7] == 'male' and df.iloc[i, 8] == '>40':\n",
        "        gender_age.append(0)\n",
        "    elif df.iloc[i, 7] == 'male' and df.iloc[i, 8] == '<40':\n",
        "        gender_age.append(1)\n",
        "    elif df.iloc[i, 7] == 'female' and df.iloc[i, 8] == '>40':\n",
        "        gender_age.append(2)\n",
        "    elif df.iloc[i, 7] == 'female' and df.iloc[i, 8] == '<40':\n",
        "        gender_age.append(3)\n",
        "\n",
        "df.insert(9, \"gender_age\", gender_age)"
      ]
    },
    {
      "cell_type": "code",
      "execution_count": 5,
      "metadata": {
        "colab": {
          "base_uri": "https://localhost:8080/",
          "height": 256
        },
        "id": "KuflRgnzD7yE",
        "outputId": "cd2c8afd-db8d-46ad-fec6-25715ddd7859"
      },
      "outputs": [
        {
          "data": {
            "text/html": [
              "<div>\n",
              "<style scoped>\n",
              "    .dataframe tbody tr th:only-of-type {\n",
              "        vertical-align: middle;\n",
              "    }\n",
              "\n",
              "    .dataframe tbody tr th {\n",
              "        vertical-align: top;\n",
              "    }\n",
              "\n",
              "    .dataframe thead th {\n",
              "        text-align: right;\n",
              "    }\n",
              "</style>\n",
              "<table border=\"1\" class=\"dataframe\">\n",
              "  <thead>\n",
              "    <tr style=\"text-align: right;\">\n",
              "      <th></th>\n",
              "      <th>id</th>\n",
              "      <th>frame</th>\n",
              "      <th>r_hip_ang</th>\n",
              "      <th>r_knee_ang</th>\n",
              "      <th>r_ankle_ang</th>\n",
              "      <th>r_elbow_ang</th>\n",
              "      <th>r_shoulder_ang</th>\n",
              "      <th>gender</th>\n",
              "      <th>age</th>\n",
              "      <th>gender_age</th>\n",
              "      <th>...</th>\n",
              "      <th>r_hip_accel_2</th>\n",
              "      <th>r_knee_accel_2</th>\n",
              "      <th>r_ankle_accel_2</th>\n",
              "      <th>r_elbow_accel_2</th>\n",
              "      <th>r_shoulder_accel_2</th>\n",
              "      <th>r_hip_accel_3</th>\n",
              "      <th>r_knee_accel_3</th>\n",
              "      <th>r_ankle_accel_3</th>\n",
              "      <th>r_elbow_accel_3</th>\n",
              "      <th>r_shoulder_accel_3</th>\n",
              "    </tr>\n",
              "  </thead>\n",
              "  <tbody>\n",
              "    <tr>\n",
              "      <th>0</th>\n",
              "      <td>10</td>\n",
              "      <td>1</td>\n",
              "      <td>167.768499</td>\n",
              "      <td>178.929176</td>\n",
              "      <td>142.051424</td>\n",
              "      <td>154.127553</td>\n",
              "      <td>23.245334</td>\n",
              "      <td>male</td>\n",
              "      <td>&gt;40</td>\n",
              "      <td>0</td>\n",
              "      <td>...</td>\n",
              "      <td>0.000000</td>\n",
              "      <td>0.000000</td>\n",
              "      <td>0.000000</td>\n",
              "      <td>0.000000</td>\n",
              "      <td>0.000000</td>\n",
              "      <td>0.0</td>\n",
              "      <td>0.0</td>\n",
              "      <td>0.0</td>\n",
              "      <td>0.0</td>\n",
              "      <td>0.0</td>\n",
              "    </tr>\n",
              "    <tr>\n",
              "      <th>1</th>\n",
              "      <td>10</td>\n",
              "      <td>2</td>\n",
              "      <td>165.381026</td>\n",
              "      <td>177.589431</td>\n",
              "      <td>137.767200</td>\n",
              "      <td>154.863261</td>\n",
              "      <td>23.917121</td>\n",
              "      <td>male</td>\n",
              "      <td>&gt;40</td>\n",
              "      <td>0</td>\n",
              "      <td>...</td>\n",
              "      <td>0.000000</td>\n",
              "      <td>0.000000</td>\n",
              "      <td>0.000000</td>\n",
              "      <td>0.000000</td>\n",
              "      <td>0.000000</td>\n",
              "      <td>0.0</td>\n",
              "      <td>0.0</td>\n",
              "      <td>0.0</td>\n",
              "      <td>0.0</td>\n",
              "      <td>0.0</td>\n",
              "    </tr>\n",
              "    <tr>\n",
              "      <th>2</th>\n",
              "      <td>10</td>\n",
              "      <td>3</td>\n",
              "      <td>164.644948</td>\n",
              "      <td>177.605573</td>\n",
              "      <td>133.497814</td>\n",
              "      <td>155.205706</td>\n",
              "      <td>24.322572</td>\n",
              "      <td>male</td>\n",
              "      <td>&gt;40</td>\n",
              "      <td>0</td>\n",
              "      <td>...</td>\n",
              "      <td>0.000000</td>\n",
              "      <td>0.000000</td>\n",
              "      <td>0.000000</td>\n",
              "      <td>0.000000</td>\n",
              "      <td>0.000000</td>\n",
              "      <td>0.0</td>\n",
              "      <td>0.0</td>\n",
              "      <td>0.0</td>\n",
              "      <td>0.0</td>\n",
              "      <td>0.0</td>\n",
              "    </tr>\n",
              "    <tr>\n",
              "      <th>3</th>\n",
              "      <td>10</td>\n",
              "      <td>4</td>\n",
              "      <td>163.897835</td>\n",
              "      <td>177.605651</td>\n",
              "      <td>132.629587</td>\n",
              "      <td>155.205706</td>\n",
              "      <td>24.802195</td>\n",
              "      <td>male</td>\n",
              "      <td>&gt;40</td>\n",
              "      <td>0</td>\n",
              "      <td>...</td>\n",
              "      <td>0.000000</td>\n",
              "      <td>0.000000</td>\n",
              "      <td>0.000000</td>\n",
              "      <td>0.000000</td>\n",
              "      <td>0.000000</td>\n",
              "      <td>0.0</td>\n",
              "      <td>0.0</td>\n",
              "      <td>0.0</td>\n",
              "      <td>0.0</td>\n",
              "      <td>0.0</td>\n",
              "    </tr>\n",
              "    <tr>\n",
              "      <th>4</th>\n",
              "      <td>10</td>\n",
              "      <td>5</td>\n",
              "      <td>163.620385</td>\n",
              "      <td>177.332893</td>\n",
              "      <td>132.012633</td>\n",
              "      <td>154.929898</td>\n",
              "      <td>25.170857</td>\n",
              "      <td>male</td>\n",
              "      <td>&gt;40</td>\n",
              "      <td>0</td>\n",
              "      <td>...</td>\n",
              "      <td>-537.181477</td>\n",
              "      <td>-301.442616</td>\n",
              "      <td>-963.950478</td>\n",
              "      <td>165.534488</td>\n",
              "      <td>151.152007</td>\n",
              "      <td>0.0</td>\n",
              "      <td>0.0</td>\n",
              "      <td>0.0</td>\n",
              "      <td>0.0</td>\n",
              "      <td>0.0</td>\n",
              "    </tr>\n",
              "  </tbody>\n",
              "</table>\n",
              "<p>5 rows × 50 columns</p>\n",
              "</div>"
            ],
            "text/plain": [
              "   id  frame   r_hip_ang  r_knee_ang  r_ankle_ang  r_elbow_ang  \\\n",
              "0  10      1  167.768499  178.929176   142.051424   154.127553   \n",
              "1  10      2  165.381026  177.589431   137.767200   154.863261   \n",
              "2  10      3  164.644948  177.605573   133.497814   155.205706   \n",
              "3  10      4  163.897835  177.605651   132.629587   155.205706   \n",
              "4  10      5  163.620385  177.332893   132.012633   154.929898   \n",
              "\n",
              "   r_shoulder_ang gender  age  gender_age  ...  r_hip_accel_2  r_knee_accel_2  \\\n",
              "0       23.245334   male  >40           0  ...       0.000000        0.000000   \n",
              "1       23.917121   male  >40           0  ...       0.000000        0.000000   \n",
              "2       24.322572   male  >40           0  ...       0.000000        0.000000   \n",
              "3       24.802195   male  >40           0  ...       0.000000        0.000000   \n",
              "4       25.170857   male  >40           0  ...    -537.181477     -301.442616   \n",
              "\n",
              "   r_ankle_accel_2  r_elbow_accel_2  r_shoulder_accel_2  r_hip_accel_3  \\\n",
              "0         0.000000         0.000000            0.000000            0.0   \n",
              "1         0.000000         0.000000            0.000000            0.0   \n",
              "2         0.000000         0.000000            0.000000            0.0   \n",
              "3         0.000000         0.000000            0.000000            0.0   \n",
              "4      -963.950478       165.534488          151.152007            0.0   \n",
              "\n",
              "   r_knee_accel_3  r_ankle_accel_3  r_elbow_accel_3  r_shoulder_accel_3  \n",
              "0             0.0              0.0              0.0                 0.0  \n",
              "1             0.0              0.0              0.0                 0.0  \n",
              "2             0.0              0.0              0.0                 0.0  \n",
              "3             0.0              0.0              0.0                 0.0  \n",
              "4             0.0              0.0              0.0                 0.0  \n",
              "\n",
              "[5 rows x 50 columns]"
            ]
          },
          "execution_count": 5,
          "metadata": {},
          "output_type": "execute_result"
        }
      ],
      "source": [
        "df.head()"
      ]
    },
    {
      "cell_type": "code",
      "execution_count": 6,
      "metadata": {
        "colab": {
          "base_uri": "https://localhost:8080/"
        },
        "id": "I7Ouu_PREk9O",
        "outputId": "9f56d7d9-2ed0-4d36-ed7a-755800d52d70"
      },
      "outputs": [
        {
          "data": {
            "text/plain": [
              "(118248, 50)"
            ]
          },
          "execution_count": 6,
          "metadata": {},
          "output_type": "execute_result"
        }
      ],
      "source": [
        "df.shape"
      ]
    },
    {
      "cell_type": "code",
      "execution_count": 7,
      "metadata": {
        "colab": {
          "base_uri": "https://localhost:8080/"
        },
        "id": "7_M7rcH6EAI4",
        "outputId": "f86bfc66-9cf6-4eb2-a10e-26d63a573d9b"
      },
      "outputs": [
        {
          "data": {
            "text/plain": [
              "array([0, 1, 3, 2], dtype=int64)"
            ]
          },
          "execution_count": 7,
          "metadata": {},
          "output_type": "execute_result"
        }
      ],
      "source": [
        "df.iloc[:, 9].unique()"
      ]
    },
    {
      "cell_type": "code",
      "execution_count": 8,
      "metadata": {
        "id": "JCcaa_wZEECy"
      },
      "outputs": [],
      "source": [
        "# Check gender_age column\n",
        "\n",
        "for i in range(len(df)):\n",
        "    if df.iloc[i, 7] == \"male\" and df.iloc[i, 8] == \">40\":\n",
        "        assert df.iloc[i, 9] == 0, \"(male, >40) should be 0\"\n",
        "    elif df.iloc[i, 7] == \"male\" and df.iloc[i, 8] == \"<40\":\n",
        "        assert df.iloc[i, 9] == 1, \"(male, <40) should be 1\"\n",
        "    elif df.iloc[i, 7] == \"female\" and df.iloc[i, 8] == \">40\":\n",
        "        assert df.iloc[i, 9] == 2, \"(female, >40) should be 2\"\n",
        "    elif df.iloc[i, 7] == \"female\" and df.iloc[i, 8] == \"<40\":\n",
        "        assert df.iloc[i, 9] == 3, \"(female, <40) should be 3\"\n",
        "    else:\n",
        "        raise Exception(\"There's something wrong with gender_age column\")"
      ]
    },
    {
      "cell_type": "code",
      "execution_count": 9,
      "metadata": {
        "id": "KsU9RWpNEIJR"
      },
      "outputs": [],
      "source": [
        "# get the min frame number\n",
        "min_frame = df.groupby(\"id\")[\"frame\"].nunique().min()\n",
        "\n",
        "# make sure each subject has the same frame number\n",
        "df = df[df.frame <= min_frame]"
      ]
    },
    {
      "cell_type": "code",
      "execution_count": 10,
      "metadata": {
        "colab": {
          "base_uri": "https://localhost:8080/"
        },
        "id": "dBGXaed1ENJh",
        "outputId": "823ac511-7cd3-4197-9fb5-3717a616f9c5"
      },
      "outputs": [
        {
          "data": {
            "text/plain": [
              "(102443, 50)"
            ]
          },
          "execution_count": 10,
          "metadata": {},
          "output_type": "execute_result"
        }
      ],
      "source": [
        "df.shape"
      ]
    },
    {
      "cell_type": "code",
      "execution_count": 11,
      "metadata": {
        "id": "EljyM2MRGZCr"
      },
      "outputs": [],
      "source": [
        "X1 = df.iloc[:, 10:19]\n",
        "X2 = df.iloc[:, 2:7]\n",
        "X = pd.concat([X1, X2], axis=1)\n",
        "y = df[\"gender_age\"]"
      ]
    },
    {
      "cell_type": "code",
      "execution_count": 12,
      "metadata": {
        "colab": {
          "base_uri": "https://localhost:8080/"
        },
        "id": "47NNtXxWGyEL",
        "outputId": "2fe90829-a13c-4d4a-9316-c24a56858c26"
      },
      "outputs": [
        {
          "data": {
            "text/plain": [
              "Index(['r_hip_vel', 'r_knee_vel', 'r_ankle_vel', 'r_elbow_vel',\n",
              "       'r_shoulder_vel', 'r_hip_accel', 'r_knee_accel', 'r_ankle_accel',\n",
              "       'r_elbow_accel', 'r_hip_ang', 'r_knee_ang', 'r_ankle_ang',\n",
              "       'r_elbow_ang', 'r_shoulder_ang'],\n",
              "      dtype='object')"
            ]
          },
          "execution_count": 12,
          "metadata": {},
          "output_type": "execute_result"
        }
      ],
      "source": [
        "X.columns"
      ]
    },
    {
      "cell_type": "code",
      "execution_count": 13,
      "metadata": {
        "id": "W36Dzb7fMOtW"
      },
      "outputs": [],
      "source": [
        "X = X.to_numpy()\n",
        "y = y.to_numpy()"
      ]
    },
    {
      "cell_type": "code",
      "execution_count": 14,
      "metadata": {
        "id": "PviLswGTEh7W"
      },
      "outputs": [],
      "source": [
        "from sklearn.model_selection import StratifiedKFold\n",
        "from sklearn.metrics import accuracy_score"
      ]
    },
    {
      "cell_type": "code",
      "execution_count": 15,
      "metadata": {
        "colab": {
          "base_uri": "https://localhost:8080/"
        },
        "id": "UMeACPm6GC9S",
        "outputId": "f708be68-dc31-4342-f2e2-c604ee135b66"
      },
      "outputs": [
        {
          "data": {
            "text/plain": [
              "3"
            ]
          },
          "execution_count": 15,
          "metadata": {},
          "output_type": "execute_result"
        }
      ],
      "source": [
        "kf = StratifiedKFold(n_splits=3)\n",
        "kf.get_n_splits(X, y)"
      ]
    },
    {
      "cell_type": "code",
      "execution_count": 16,
      "metadata": {
        "id": "6RYEjYDPHWpR"
      },
      "outputs": [],
      "source": [
        "def time_score(model, X_train, X_test, y_train, y_test):\n",
        "  start = time.time()\n",
        "  model.fit(X_train, y_train)\n",
        "  end = time.time()\n",
        "  y_pred = model.predict(X_test)\n",
        "  return { \"time\": end - start, \"accuracy\": accuracy_score(y_test, y_pred) }\n",
        " "
      ]
    },
    {
      "cell_type": "code",
      "execution_count": 17,
      "metadata": {
        "id": "5DKfnwqPLsSW"
      },
      "outputs": [],
      "source": [
        "from sklearn.naive_bayes import BernoulliNB"
      ]
    },
    {
      "cell_type": "code",
      "execution_count": 18,
      "metadata": {
        "id": "VrSNbiUOMaj-"
      },
      "outputs": [],
      "source": [
        "bnb_scores = []\n",
        "\n",
        "for train_index, test_index in kf.split(X, y):\n",
        "  bnb_scores.append(time_score(BernoulliNB(), X[train_index], X[test_index], y[train_index], y[test_index]))"
      ]
    },
    {
      "cell_type": "code",
      "execution_count": 19,
      "metadata": {
        "id": "c2px6T8wM_Sk"
      },
      "outputs": [
        {
          "data": {
            "text/plain": [
              "[{'time': 0.03499865531921387, 'accuracy': 0.4190582171723088},\n",
              " {'time': 0.04204154014587402, 'accuracy': 0.4154855335597985},\n",
              " {'time': 0.03400111198425293, 'accuracy': 0.40864497613260314}]"
            ]
          },
          "execution_count": 19,
          "metadata": {},
          "output_type": "execute_result"
        }
      ],
      "source": [
        "bnb_scores"
      ]
    },
    {
      "cell_type": "code",
      "execution_count": 20,
      "metadata": {},
      "outputs": [
        {
          "data": {
            "text/plain": [
              "0.03701376914978027"
            ]
          },
          "execution_count": 20,
          "metadata": {},
          "output_type": "execute_result"
        }
      ],
      "source": [
        "# Average time\n",
        "sum(list(map(lambda ts: ts[\"time\"], bnb_scores))) / 3"
      ]
    },
    {
      "cell_type": "code",
      "execution_count": 21,
      "metadata": {},
      "outputs": [
        {
          "data": {
            "text/plain": [
              "0.4143962422882368"
            ]
          },
          "execution_count": 21,
          "metadata": {},
          "output_type": "execute_result"
        }
      ],
      "source": [
        "sum(list(map(lambda ts: ts[\"accuracy\"], bnb_scores))) / 3"
      ]
    },
    {
      "cell_type": "code",
      "execution_count": 22,
      "metadata": {
        "id": "J2JnES4v5Upw"
      },
      "outputs": [],
      "source": [
        "from sklearn.tree import DecisionTreeClassifier"
      ]
    },
    {
      "cell_type": "code",
      "execution_count": 23,
      "metadata": {
        "id": "edgp9K_-5qD2"
      },
      "outputs": [],
      "source": [
        "dtc_scores = []\n",
        "\n",
        "for train_index, test_index in kf.split(X, y):\n",
        "  dtc_scores.append(time_score(DecisionTreeClassifier(max_depth=200), X[train_index], X[test_index], y[train_index], y[test_index]))"
      ]
    },
    {
      "cell_type": "code",
      "execution_count": 24,
      "metadata": {
        "id": "MB54xEGt5uxu"
      },
      "outputs": [
        {
          "data": {
            "text/plain": [
              "[{'time': 4.90472936630249, 'accuracy': 0.543370036312522},\n",
              " {'time': 5.228580713272095, 'accuracy': 0.6277087970012885},\n",
              " {'time': 5.6774163246154785, 'accuracy': 0.5089466131724603}]"
            ]
          },
          "execution_count": 24,
          "metadata": {},
          "output_type": "execute_result"
        }
      ],
      "source": [
        "dtc_scores"
      ]
    },
    {
      "cell_type": "code",
      "execution_count": 25,
      "metadata": {},
      "outputs": [
        {
          "data": {
            "text/plain": [
              "5.2702421347300215"
            ]
          },
          "execution_count": 25,
          "metadata": {},
          "output_type": "execute_result"
        }
      ],
      "source": [
        "sum(list(map(lambda ts: ts[\"time\"], dtc_scores))) / 3"
      ]
    },
    {
      "cell_type": "code",
      "execution_count": 26,
      "metadata": {},
      "outputs": [
        {
          "data": {
            "text/plain": [
              "0.5600084821620902"
            ]
          },
          "execution_count": 26,
          "metadata": {},
          "output_type": "execute_result"
        }
      ],
      "source": [
        "sum(list(map(lambda ts: ts[\"accuracy\"], dtc_scores))) / 3"
      ]
    },
    {
      "cell_type": "code",
      "execution_count": 27,
      "metadata": {
        "id": "1BxSTZENNA61"
      },
      "outputs": [],
      "source": [
        "from sklearn.ensemble import RandomForestClassifier"
      ]
    },
    {
      "cell_type": "code",
      "execution_count": 28,
      "metadata": {
        "id": "pb218l5Jlp_M"
      },
      "outputs": [],
      "source": [
        "rfc_scores = []\n",
        "\n",
        "for train_index, test_index in kf.split(X, y):\n",
        "  rfc_scores.append(time_score(RandomForestClassifier(max_depth=10, n_estimators=100), X[train_index], X[test_index], y[train_index], y[test_index]))"
      ]
    },
    {
      "cell_type": "code",
      "execution_count": 29,
      "metadata": {
        "id": "SxumtMvEmj2A"
      },
      "outputs": [
        {
          "data": {
            "text/plain": [
              "[{'time': 52.534324407577515, 'accuracy': 0.6016457772051071},\n",
              " {'time': 52.070318937301636, 'accuracy': 0.6371090547030572},\n",
              " {'time': 52.73174571990967, 'accuracy': 0.5420095469587373}]"
            ]
          },
          "execution_count": 29,
          "metadata": {},
          "output_type": "execute_result"
        }
      ],
      "source": [
        "rfc_scores"
      ]
    },
    {
      "cell_type": "code",
      "execution_count": 30,
      "metadata": {},
      "outputs": [
        {
          "data": {
            "text/plain": [
              "52.445463021596275"
            ]
          },
          "execution_count": 30,
          "metadata": {},
          "output_type": "execute_result"
        }
      ],
      "source": [
        "sum(list(map(lambda ts: ts[\"time\"], rfc_scores))) / 3"
      ]
    },
    {
      "cell_type": "code",
      "execution_count": 31,
      "metadata": {},
      "outputs": [
        {
          "data": {
            "text/plain": [
              "0.5935881262889672"
            ]
          },
          "execution_count": 31,
          "metadata": {},
          "output_type": "execute_result"
        }
      ],
      "source": [
        "sum(list(map(lambda ts: ts[\"accuracy\"], rfc_scores))) / 3"
      ]
    },
    {
      "cell_type": "code",
      "execution_count": 32,
      "metadata": {},
      "outputs": [],
      "source": [
        "from sklearn.ensemble import GradientBoostingClassifier"
      ]
    },
    {
      "cell_type": "code",
      "execution_count": 33,
      "metadata": {},
      "outputs": [],
      "source": [
        "gbc_scores = []\n",
        "\n",
        "for train_index, test_index in kf.split(X, y):\n",
        "  gbc_scores.append(time_score(GradientBoostingClassifier(n_estimators=200), X[train_index], X[test_index], y[train_index], y[test_index]))"
      ]
    },
    {
      "cell_type": "code",
      "execution_count": 34,
      "metadata": {},
      "outputs": [
        {
          "data": {
            "text/plain": [
              "907.0789831479391"
            ]
          },
          "execution_count": 34,
          "metadata": {},
          "output_type": "execute_result"
        }
      ],
      "source": [
        "sum(list(map(lambda ts: ts[\"time\"], gbc_scores))) / 3"
      ]
    },
    {
      "cell_type": "code",
      "execution_count": 35,
      "metadata": {},
      "outputs": [
        {
          "data": {
            "text/plain": [
              "0.5923290852623183"
            ]
          },
          "execution_count": 35,
          "metadata": {},
          "output_type": "execute_result"
        }
      ],
      "source": [
        "sum(list(map(lambda ts: ts[\"accuracy\"], gbc_scores))) / 3"
      ]
    },
    {
      "cell_type": "code",
      "execution_count": 36,
      "metadata": {},
      "outputs": [
        {
          "data": {
            "text/plain": [
              "[{'time': 917.0525693893433, 'accuracy': 0.5726836125102495},\n",
              " {'time': 889.7097039222717, 'accuracy': 0.6434930303385265},\n",
              " {'time': 914.4746761322021, 'accuracy': 0.560810612938179}]"
            ]
          },
          "execution_count": 36,
          "metadata": {},
          "output_type": "execute_result"
        }
      ],
      "source": [
        "gbc_scores"
      ]
    },
    {
      "cell_type": "code",
      "execution_count": 37,
      "metadata": {
        "id": "OBqFGAIO7HKn"
      },
      "outputs": [],
      "source": [
        "from sklearn.neighbors import KNeighborsClassifier"
      ]
    },
    {
      "cell_type": "code",
      "execution_count": 38,
      "metadata": {},
      "outputs": [],
      "source": [
        "knn_scores = []\n",
        "for train_index, test_index in kf.split(X, y):\n",
        "  knn_scores.append(time_score(KNeighborsClassifier(n_neighbors=10), X[train_index], X[test_index], y[train_index], y[test_index]))"
      ]
    },
    {
      "cell_type": "code",
      "execution_count": 39,
      "metadata": {},
      "outputs": [
        {
          "data": {
            "text/plain": [
              "0.4513734181722005"
            ]
          },
          "execution_count": 39,
          "metadata": {},
          "output_type": "execute_result"
        }
      ],
      "source": [
        "sum(list(map(lambda ts: ts[\"time\"], knn_scores))) / 3"
      ]
    },
    {
      "cell_type": "code",
      "execution_count": 40,
      "metadata": {},
      "outputs": [
        {
          "data": {
            "text/plain": [
              "0.6183529301249987"
            ]
          },
          "execution_count": 40,
          "metadata": {},
          "output_type": "execute_result"
        }
      ],
      "source": [
        "sum(list(map(lambda ts: ts[\"accuracy\"], knn_scores))) / 3"
      ]
    },
    {
      "cell_type": "code",
      "execution_count": 41,
      "metadata": {},
      "outputs": [
        {
          "data": {
            "text/plain": [
              "[{'time': 0.5690004825592041, 'accuracy': 0.5896685018156261},\n",
              " {'time': 0.3949930667877197, 'accuracy': 0.7178165631955019},\n",
              " {'time': 0.39012670516967773, 'accuracy': 0.547573725363868}]"
            ]
          },
          "execution_count": 41,
          "metadata": {},
          "output_type": "execute_result"
        }
      ],
      "source": [
        "knn_scores"
      ]
    },
    {
      "cell_type": "code",
      "execution_count": 42,
      "metadata": {},
      "outputs": [],
      "source": [
        "from xgboost import XGBClassifier"
      ]
    },
    {
      "cell_type": "code",
      "execution_count": 43,
      "metadata": {
        "id": "jqiagSBh7P1-"
      },
      "outputs": [],
      "source": [
        "xgbc_scores = []\n",
        "\n",
        "xgbc = XGBClassifier(n_estimators=200, max_depth=10, learning_rate=1, objective='binary:logistic')\n",
        "for train_index, test_index in kf.split(X, y):\n",
        "  start = time.time()\n",
        "  xgbc.fit(X[train_index], y[train_index])\n",
        "  end = time.time()\n",
        "  y_pred = xgbc.predict(X[test_index])\n",
        "  xgbc_scores.append({\"time\": end - start, \"accuracy\": accuracy_score(y[test_index], y_pred)})"
      ]
    },
    {
      "cell_type": "code",
      "execution_count": 44,
      "metadata": {},
      "outputs": [
        {
          "data": {
            "text/plain": [
              "11.075249274571737"
            ]
          },
          "execution_count": 44,
          "metadata": {},
          "output_type": "execute_result"
        }
      ],
      "source": [
        "sum(list(map(lambda ts: ts[\"time\"], xgbc_scores))) / 3"
      ]
    },
    {
      "cell_type": "code",
      "execution_count": 45,
      "metadata": {},
      "outputs": [
        {
          "data": {
            "text/plain": [
              "0.6870056480866303"
            ]
          },
          "execution_count": 45,
          "metadata": {},
          "output_type": "execute_result"
        }
      ],
      "source": [
        "sum(list(map(lambda ts: ts[\"accuracy\"], xgbc_scores))) / 3"
      ]
    },
    {
      "cell_type": "code",
      "execution_count": 46,
      "metadata": {},
      "outputs": [
        {
          "data": {
            "text/plain": [
              "[{'time': 11.353684425354004, 'accuracy': 0.6643434461754715},\n",
              " {'time': 11.551730871200562, 'accuracy': 0.7900609113271642},\n",
              " {'time': 10.320332527160645, 'accuracy': 0.6066125867572554}]"
            ]
          },
          "execution_count": 46,
          "metadata": {},
          "output_type": "execute_result"
        }
      ],
      "source": [
        "xgbc_scores"
      ]
    },
    {
      "cell_type": "code",
      "execution_count": 47,
      "metadata": {
        "id": "xFjkMnnY3raj"
      },
      "outputs": [],
      "source": [
        "from sklearn.svm import SVC"
      ]
    },
    {
      "cell_type": "code",
      "execution_count": 48,
      "metadata": {
        "id": "6zAW98VY3qC0"
      },
      "outputs": [],
      "source": [
        "svc_scores = []\n",
        "\n",
        "for train_index, test_index in kf.split(X, y):\n",
        "  svc_scores.append(time_score(SVC(kernel='rbf', gamma=0.5, C=0.1), X[train_index], X[test_index], y[train_index], y[test_index]))"
      ]
    },
    {
      "cell_type": "code",
      "execution_count": 49,
      "metadata": {},
      "outputs": [
        {
          "data": {
            "text/plain": [
              "1160.5573070844014"
            ]
          },
          "execution_count": 49,
          "metadata": {},
          "output_type": "execute_result"
        }
      ],
      "source": [
        "sum(list(map(lambda ts: ts[\"time\"], svc_scores))) / 3"
      ]
    },
    {
      "cell_type": "code",
      "execution_count": 50,
      "metadata": {},
      "outputs": [
        {
          "data": {
            "text/plain": [
              "0.41948204998886857"
            ]
          },
          "execution_count": 50,
          "metadata": {},
          "output_type": "execute_result"
        }
      ],
      "source": [
        "sum(list(map(lambda ts: ts[\"accuracy\"], svc_scores))) / 3"
      ]
    },
    {
      "cell_type": "code",
      "execution_count": 51,
      "metadata": {
        "id": "LxGECwzk3tQs"
      },
      "outputs": [
        {
          "data": {
            "text/plain": [
              "[{'time': 1125.8223354816437, 'accuracy': 0.41911678575612044},\n",
              " {'time': 1142.8053817749023, 'accuracy': 0.4202003045566358},\n",
              " {'time': 1213.0442039966583, 'accuracy': 0.41912905965384956}]"
            ]
          },
          "execution_count": 51,
          "metadata": {},
          "output_type": "execute_result"
        }
      ],
      "source": [
        "svc_scores"
      ]
    },
    {
      "cell_type": "code",
      "execution_count": null,
      "metadata": {},
      "outputs": [],
      "source": [
        "svc_scores = []\n",
        "\n",
        "for train_index, test_index in kf.split(X, y):\n",
        "  svc_scores.append(time_score(SVC(kernel='rbf', gamma=0.5, C=0.1), X[train_index], X[test_index], y[train_index], y[test_index]))"
      ]
    }
  ],
  "metadata": {
    "colab": {
      "provenance": []
    },
    "kernelspec": {
      "display_name": "Python 3",
      "name": "python3"
    },
    "language_info": {
      "codemirror_mode": {
        "name": "ipython",
        "version": 3
      },
      "file_extension": ".py",
      "mimetype": "text/x-python",
      "name": "python",
      "nbconvert_exporter": "python",
      "pygments_lexer": "ipython3",
      "version": "3.10.13"
    }
  },
  "nbformat": 4,
  "nbformat_minor": 0
}
